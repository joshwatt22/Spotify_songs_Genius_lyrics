{
 "cells": [
  {
   "cell_type": "markdown",
   "metadata": {},
   "source": [
    "# Code to get Spotify Data and Lyrics for a Spotify Playlist"
   ]
  },
  {
   "cell_type": "code",
   "execution_count": null,
   "metadata": {},
   "outputs": [],
   "source": [
    "import pandas as pd\n",
    "import spotipy\n",
    "import re\n",
    "from spotipy.oauth2 import SpotifyClientCredentials\n",
    "from bs4 import BeautifulSoup\n",
    "import requests\n",
    "import math\n",
    "from lyricsgenius import Genius\n",
    "from tqdm import tqdm_notebook"
   ]
  },
  {
   "cell_type": "markdown",
   "metadata": {},
   "source": [
    "### Input your Spotify Client ID and Secret ID Below (can be obtained from https://developer.spotify.com/) and Genius API Secret (can be obtained from https://docs.genius.com/)"
   ]
  },
  {
   "cell_type": "code",
   "execution_count": null,
   "metadata": {},
   "outputs": [],
   "source": [
    "# Input Spotify API credentials below\n",
    "cid = 'Enter Spotify CID Here'\n",
    "secret ='Enter Spotify Secret Here'\n",
    "\n",
    "# Input Genius API credentials below\n",
    "genius_secret = 'Enter Genius Secret Here'"
   ]
  },
  {
   "cell_type": "code",
   "execution_count": null,
   "metadata": {},
   "outputs": [],
   "source": [
    "# Registering APIs\n",
    "client_credentials_manager = SpotifyClientCredentials(client_id=cid, client_secret=secret)\n",
    "sp = spotipy.Spotify(client_credentials_manager = client_credentials_manager)\n",
    "\n",
    "genius = Genius(genius_secret, skip_non_songs=True, remove_section_headers=True, verbose=False, timeout=50)"
   ]
  },
  {
   "cell_type": "markdown",
   "metadata": {},
   "source": [
    "### Function which obtains the track info for all the songs in the Spotify playlist"
   ]
  },
  {
   "cell_type": "code",
   "execution_count": null,
   "metadata": {},
   "outputs": [],
   "source": [
    "# Insert the URI as a string into the function\n",
    "def get_playlist_tracks(uri_info, offset):\n",
    "    uri = []\n",
    "    track = []\n",
    "    duration = []\n",
    "    explicit = []\n",
    "    artists = []\n",
    "    popularity = []\n",
    "    album = []\n",
    "    one = sp.playlist_tracks(uri_info, limit=100, offset=offset)\n",
    "    df1 = pd.DataFrame(one)\n",
    "    \n",
    "    # Looping over songs in dataframe\n",
    "    for i in range(len(df1)):\n",
    "        x = df1['items'][i]['track']\n",
    "        uri.append(x['uri'])\n",
    "        track.append(x['name'])\n",
    "        duration.append(x['duration_ms'])\n",
    "        explicit.append(x['explicit'])\n",
    "        popularity.append(x['popularity'])\n",
    "        album.append(x['album']['name'])\n",
    "        temp = []\n",
    "        for a in x['artists']:\n",
    "            temp.append(a['name'])\n",
    "        artists.append(temp)\n",
    "    \n",
    "    # Creating new dataframe with wanted information\n",
    "    df2 = pd.DataFrame({\n",
    "    'track_uri':uri,\n",
    "    'track_name':track,\n",
    "    'artists': artists,\n",
    "    'album': album,\n",
    "    'duration_ms':duration,\n",
    "    'explicit':explicit,\n",
    "    'popularity': popularity})\n",
    "    \n",
    "    return df2"
   ]
  },
  {
   "cell_type": "markdown",
   "metadata": {},
   "source": [
    "### Paginating playlist songs and adding playlist info"
   ]
  },
  {
   "cell_type": "code",
   "execution_count": null,
   "metadata": {},
   "outputs": [],
   "source": [
    "# Paginate playlist tracks and add playlist name + info\n",
    "def get_full_playlist(uri_info):\n",
    "    p = sp.playlist(uri_info)\n",
    "    name = p['name']\n",
    "    tot_tracks = p['tracks']['total']\n",
    "    uri = p['uri']\n",
    "    dfs = []\n",
    "    for k in range(math.ceil(tot_tracks/100)):\n",
    "        dfs.append(get_playlist_tracks(uri_info, k*100))\n",
    "    df = pd.concat(dfs)\n",
    "    df['playlist_name'] = name\n",
    "    df['playlist_uri'] = uri\n",
    "    return df"
   ]
  },
  {
   "cell_type": "markdown",
   "metadata": {},
   "source": [
    "### Function which combines songs from multiple playlists"
   ]
  },
  {
   "cell_type": "code",
   "execution_count": null,
   "metadata": {},
   "outputs": [],
   "source": [
    "# Combine songs from multiple playlists\n",
    "def get_list_of_playlists(list_of_playlist_uris):\n",
    "    dfs = []\n",
    "    print('Getting songs from playlists')\n",
    "    for uri_info in tqdm_notebook(list_of_playlist_uris):\n",
    "        dfs.append(get_full_playlist(uri_info))\n",
    "    return pd.concat(dfs).reset_index(drop = True)"
   ]
  },
  {
   "cell_type": "markdown",
   "metadata": {},
   "source": [
    "### Adding track metadata from Spotify API"
   ]
  },
  {
   "cell_type": "code",
   "execution_count": null,
   "metadata": {},
   "outputs": [],
   "source": [
    "# Adding track info metadata\n",
    "def get_playlist_info(list_of_playlist_uris):\n",
    "    df = get_list_of_playlists(list_of_playlist_uris)\n",
    "    danceability = []\n",
    "    energy = []\n",
    "    key = []\n",
    "    loudness = []\n",
    "    speechiness = []\n",
    "    acousticness = []\n",
    "    instrumentalness = []\n",
    "    liveness = []\n",
    "    valence = []\n",
    "    tempo = []\n",
    "    indxs = []\n",
    "    print('Getting individual song metadata \\n')\n",
    "    for i in tqdm_notebook(range(len(df))):\n",
    "        uri = df['track_uri'][i]\n",
    "        if uri not in df['track_uri'][:i].tolist():\n",
    "            for x in sp.audio_features(tracks=[uri]):\n",
    "                if x is not None:\n",
    "                    danceability.append(x.get('danceability', None))\n",
    "                    energy.append(x['energy'])\n",
    "                    key.append(x['key'])\n",
    "                    loudness.append(x['loudness'])\n",
    "                    speechiness.append(x['speechiness'])\n",
    "                    acousticness.append(x['acousticness'])\n",
    "                    instrumentalness.append(x['instrumentalness'])\n",
    "                    liveness.append(x['liveness'])\n",
    "                    valence.append(x['valence'])\n",
    "                    tempo.append(x['tempo'])\n",
    "                else:\n",
    "                    indxs.append(i)\n",
    "        else:\n",
    "            indxs.append(i)\n",
    "\n",
    "    df = df.drop(index=indxs).reset_index(drop=True)\n",
    "    \n",
    "    df['danceability'] = danceability\n",
    "    df['energy'] = energy\n",
    "    df['key'] = key\n",
    "    df['loudness'] = loudness\n",
    "    df['speechiness'] = speechiness\n",
    "    df['acousticness'] = acousticness\n",
    "    df['instrumentalness'] = instrumentalness\n",
    "    df['liveness'] = liveness\n",
    "    df['valence'] = valence\n",
    "    df['tempo'] = tempo\n",
    "    \n",
    "    return df"
   ]
  },
  {
   "cell_type": "markdown",
   "metadata": {},
   "source": [
    "### Checks if the lyrics actually come from a song (using regular expressions)"
   ]
  },
  {
   "cell_type": "code",
   "execution_count": null,
   "metadata": {},
   "outputs": [],
   "source": [
    "# Check if we have actually have a song (basic regular expression stuff)\n",
    "def is_song(song):\n",
    "    if song != None:\n",
    "        first_line = song.lyrics.split('\\n')[0]\n",
    "        last_word = first_line.split()[-1]\n",
    "        if 'Lyrics' not in last_word:\n",
    "            song = None\n",
    "    return song"
   ]
  },
  {
   "cell_type": "markdown",
   "metadata": {},
   "source": [
    "### Uses Genius API to get lyrics"
   ]
  },
  {
   "cell_type": "code",
   "execution_count": null,
   "metadata": {},
   "outputs": [],
   "source": [
    "# Function which gets lyrics of songs using Genius API\n",
    "def get_lyrics(df):\n",
    "    lyrics = []\n",
    "    print('Getting Lyrics for each song')\n",
    "    for i in tqdm_notebook(range(len(df))):\n",
    "        combined_artists = \" & \".join(df['artists'][i])\n",
    "        song = genius.search_song(df['track_name'][i], combined_artists)\n",
    "        song = is_song(song)\n",
    "        if (song == None) & (len(df['artists'][i])>1):\n",
    "            song = genius.search_song(df['track_name'][i], df['artists'][i][0])\n",
    "            song = is_song(song)\n",
    "        if song == None:\n",
    "            lyrics.append(None)            \n",
    "        else:\n",
    "            lyrics.append(song.lyrics)\n",
    "    return lyrics"
   ]
  },
  {
   "cell_type": "markdown",
   "metadata": {},
   "source": [
    "### Function which combines Spotify data and Genius lyrics into one dataframe"
   ]
  },
  {
   "cell_type": "code",
   "execution_count": null,
   "metadata": {},
   "outputs": [],
   "source": [
    "\n",
    "# Combining Spotify metadata and Genius lyrics into one dataframe\n",
    "def get_playlist_songs(list_of_playlist_uris):\n",
    "    df = get_playlist_info(list_of_playlist_uris)\n",
    "    lyrics = get_lyrics(df)\n",
    "    df['lyrics'] = lyrics\n",
    "    return df"
   ]
  },
  {
   "cell_type": "code",
   "execution_count": null,
   "metadata": {},
   "outputs": [],
   "source": [
    "# Getting tracks\n",
    "df = get_playlist_songs('Enter list of Spotify playlist URLs')"
   ]
  }
 ],
 "metadata": {
  "kernelspec": {
   "display_name": "Python 3.8.5 ('base')",
   "language": "python",
   "name": "python3"
  },
  "language_info": {
   "codemirror_mode": {
    "name": "ipython",
    "version": 3
   },
   "file_extension": ".py",
   "mimetype": "text/x-python",
   "name": "python",
   "nbconvert_exporter": "python",
   "pygments_lexer": "ipython3",
   "version": "3.8.5"
  },
  "orig_nbformat": 4,
  "vscode": {
   "interpreter": {
    "hash": "0457aa8c5c574a52763c83cf294f528ca9ad50b2948ef04fb336f2e77231e800"
   }
  }
 },
 "nbformat": 4,
 "nbformat_minor": 2
}
